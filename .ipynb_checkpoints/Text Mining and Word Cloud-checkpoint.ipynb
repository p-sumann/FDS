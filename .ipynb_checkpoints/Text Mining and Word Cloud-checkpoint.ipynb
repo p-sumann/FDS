{
 "cells": [
  {
   "cell_type": "code",
   "execution_count": 21,
   "id": "f170e188-1d18-4850-942c-93e13bc19338",
   "metadata": {},
   "outputs": [],
   "source": [
    "library(tm, warn.conflicts = TRUE)\n",
    "library(Rgraphviz, warn.conflicts = TRUE)\n",
    "library(wordcloud, warn.conflicts = TRUE)\n",
    "library(wordcloud)\n",
    "library(tibble)\n",
    "library(ggplot2)"
   ]
  },
  {
   "cell_type": "code",
   "execution_count": 23,
   "id": "973563c2-385e-4cf7-a98c-5402e791f3f8",
   "metadata": {},
   "outputs": [],
   "source": [
    "text_document <- readLines('himalayan_times.txt',warn = F)"
   ]
  },
  {
   "cell_type": "code",
   "execution_count": 5,
   "id": "0dd6b1c1-4551-4f8c-979f-d9fb7fc0665d",
   "metadata": {},
   "outputs": [],
   "source": [
    "# Create a corpuse from the saved text file\n",
    "corpus <- Corpus(VectorSource(text_document))"
   ]
  },
  {
   "cell_type": "markdown",
   "id": "ff92e0d4-f380-4aef-9a47-4cec1b2bfeb2",
   "metadata": {},
   "source": [
    "#### Text Preprocessing\n",
    "- Remove Punctuation\n",
    "- Remove Stop Words\n",
    "- Lemmatization\n",
    "- Convert the corpus to lower\n",
    "- Stem the corpus if needed\n",
    "- Custom remove words"
   ]
  },
  {
   "cell_type": "markdown",
   "id": "13ecf2ee-4205-4b3d-9ffb-2a11d6084a6a",
   "metadata": {},
   "source": [
    "#### Convert the text into desired format then create the term document matrix"
   ]
  },
  {
   "cell_type": "code",
   "execution_count": 27,
   "id": "61cf8e7c-c5de-4f7d-9510-f4914559c06e",
   "metadata": {},
   "outputs": [
    {
     "name": "stderr",
     "output_type": "stream",
     "text": [
      "Warning message in tm_map.SimpleCorpus(corpus, removeWords, my_stopwords):\n",
      "\"transformation drops documents\"\n"
     ]
    }
   ],
   "source": [
    "my_stopwords <- c(\"can\",\"may\",\"used\")\n",
    "corpus <- tm_map(corpus, removeWords, my_stopwords)\n",
    "my_tdm <- TermDocumentMatrix(\n",
    "  corpus,\n",
    "  control =\n",
    "    list(\n",
    "      removePunctuation = TRUE,\n",
    "      stopwords = TRUE,\n",
    "      tolower = TRUE,\n",
    "      stemming = FALSE,\n",
    "      removeNumbers = TRUE,\n",
    "      bounds = list(global = c(1, Inf)),\n",
    "      wordLenghts = c(1,Inf))\n",
    ")"
   ]
  },
  {
   "cell_type": "code",
   "execution_count": 8,
   "id": "31cd51b3-748e-4f73-a753-7e9e10396315",
   "metadata": {},
   "outputs": [
    {
     "data": {
      "text/html": [
       "<style>\n",
       ".list-inline {list-style: none; margin:0; padding: 0}\n",
       ".list-inline>li {display: inline-block}\n",
       ".list-inline>li:not(:last-child)::after {content: \"\\00b7\"; padding: 0 .5ex}\n",
       "</style>\n",
       "<ol class=list-inline><li>'ability'</li><li>'access'</li><li>'accessed'</li><li>'achieve'</li><li>'additionally'</li><li>'adoption'</li></ol>\n"
      ],
      "text/latex": [
       "\\begin{enumerate*}\n",
       "\\item 'ability'\n",
       "\\item 'access'\n",
       "\\item 'accessed'\n",
       "\\item 'achieve'\n",
       "\\item 'additionally'\n",
       "\\item 'adoption'\n",
       "\\end{enumerate*}\n"
      ],
      "text/markdown": [
       "1. 'ability'\n",
       "2. 'access'\n",
       "3. 'accessed'\n",
       "4. 'achieve'\n",
       "5. 'additionally'\n",
       "6. 'adoption'\n",
       "\n",
       "\n"
      ],
      "text/plain": [
       "[1] \"ability\"      \"access\"       \"accessed\"     \"achieve\"      \"additionally\"\n",
       "[6] \"adoption\"    "
      ]
     },
     "metadata": {},
     "output_type": "display_data"
    }
   ],
   "source": [
    "low_frequent_terms <- findFreqTerms(my_tdm)\n",
    "head(low_frequent_terms)"
   ]
  },
  {
   "cell_type": "markdown",
   "id": "cf4631ec-edca-4259-9ef0-1f4ca470a51c",
   "metadata": {},
   "source": [
    "#### Wordcloud"
   ]
  },
  {
   "cell_type": "code",
   "execution_count": 10,
   "id": "8974f7b9-dd32-478a-90e1-6e0881d4d10d",
   "metadata": {},
   "outputs": [],
   "source": [
    "mat <- as.matrix(my_tdm)\n",
    "freq <- mat %>% rowSums() %>% sort(decreasing = T)"
   ]
  },
  {
   "cell_type": "code",
   "execution_count": 17,
   "id": "6a52d20a-321a-4480-8e2e-33da82c65089",
   "metadata": {},
   "outputs": [
    {
     "data": {
      "text/html": [
       "<table class=\"dataframe\">\n",
       "<caption>A tibble: 10 × 2</caption>\n",
       "<thead>\n",
       "\t<tr><th scope=col>word</th><th scope=col>counts</th></tr>\n",
       "\t<tr><th scope=col>&lt;chr&gt;</th><th scope=col>&lt;dbl&gt;</th></tr>\n",
       "</thead>\n",
       "<tbody>\n",
       "\t<tr><td>digital    </td><td>18</td></tr>\n",
       "\t<tr><td>security   </td><td>11</td></tr>\n",
       "\t<tr><td>cyber      </td><td> 6</td></tr>\n",
       "\t<tr><td>smart      </td><td> 6</td></tr>\n",
       "\t<tr><td>data       </td><td> 5</td></tr>\n",
       "\t<tr><td>framework  </td><td> 5</td></tr>\n",
       "\t<tr><td>space      </td><td> 5</td></tr>\n",
       "\t<tr><td>world      </td><td> 5</td></tr>\n",
       "\t<tr><td>ensure     </td><td> 4</td></tr>\n",
       "\t<tr><td>information</td><td> 4</td></tr>\n",
       "</tbody>\n",
       "</table>\n"
      ],
      "text/latex": [
       "A tibble: 10 × 2\n",
       "\\begin{tabular}{ll}\n",
       " word & counts\\\\\n",
       " <chr> & <dbl>\\\\\n",
       "\\hline\n",
       "\t digital     & 18\\\\\n",
       "\t security    & 11\\\\\n",
       "\t cyber       &  6\\\\\n",
       "\t smart       &  6\\\\\n",
       "\t data        &  5\\\\\n",
       "\t framework   &  5\\\\\n",
       "\t space       &  5\\\\\n",
       "\t world       &  5\\\\\n",
       "\t ensure      &  4\\\\\n",
       "\t information &  4\\\\\n",
       "\\end{tabular}\n"
      ],
      "text/markdown": [
       "\n",
       "A tibble: 10 × 2\n",
       "\n",
       "| word &lt;chr&gt; | counts &lt;dbl&gt; |\n",
       "|---|---|\n",
       "| digital     | 18 |\n",
       "| security    | 11 |\n",
       "| cyber       |  6 |\n",
       "| smart       |  6 |\n",
       "| data        |  5 |\n",
       "| framework   |  5 |\n",
       "| space       |  5 |\n",
       "| world       |  5 |\n",
       "| ensure      |  4 |\n",
       "| information |  4 |\n",
       "\n"
      ],
      "text/plain": [
       "   word        counts\n",
       "1  digital     18    \n",
       "2  security    11    \n",
       "3  cyber        6    \n",
       "4  smart        6    \n",
       "5  data         5    \n",
       "6  framework    5    \n",
       "7  space        5    \n",
       "8  world        5    \n",
       "9  ensure       4    \n",
       "10 information  4    "
      ]
     },
     "metadata": {},
     "output_type": "display_data"
    }
   ],
   "source": [
    "# create a dataframe for top 10 words in the term document matrix\n",
    "top_10_words <-\n",
    "  my_tdm %>%\n",
    "  as.matrix() %>%\n",
    "  rowSums() %>%\n",
    "  sort(decreasing = TRUE) %>%\n",
    "  head(10) %>%\n",
    "  enframe(name = \"word\", value = \"counts\")\n",
    "top_10_words"
   ]
  },
  {
   "cell_type": "code",
   "execution_count": 19,
   "id": "ffb1743a-e3fa-41ef-aeb2-f11396e3587a",
   "metadata": {},
   "outputs": [
    {
     "data": {
      "image/png": "[encoded data removed]",
      "text/plain": [
       "plot without title"
      ]
     },
     "metadata": {
      "image/png": {
       "height": 420,
       "width": 420
      }
     },
     "output_type": "display_data"
    }
   ],
   "source": [
    "# plot the top 10 words and counts using bargraph\n",
    "library(ggplot2)\n",
    "ggplot(top_10_words, aes(word, counts)) +\n",
    "  geom_bar(stat = \"identity\", fill = \"#932421\") +\n",
    "  theme(axis.text.x = element_text(angle = 45, hjust = 1)) +\n",
    "  labs(title = \"Top 10 words by counts.\") +\n",
    "  geom_text(aes(label = counts), vjust = -0.5)\n"
   ]
  },
  {
   "cell_type": "code",
   "execution_count": 20,
   "id": "bdf2aa28-44f2-4c20-8e90-1e362d2525c1",
   "metadata": {},
   "outputs": [
    {
     "data": {
      "image/png": "[encoded data removed]",
      "text/plain": [
       "plot without title"
      ]
     },
     "metadata": {
      "image/png": {
       "height": 420,
       "width": 420
      }
     },
     "output_type": "display_data"
    }
   ],
   "source": [
    "# now plot the word cloud\n",
    "wordcloud(\n",
    "  words = names(freq),\n",
    "  freq = freq,\n",
    "  random.order = FALSE,\n",
    "  colors = brewer.pal(8, \"Dark2\"),\n",
    "  scale = c(4, 0.5),\n",
    "  random.color = TRUE,\n",
    ")"
   ]
  },
  {
   "cell_type": "code",
   "execution_count": null,
   "id": "582ef518-0f47-472c-8638-00fe0adaf86e",
   "metadata": {},
   "outputs": [],
   "source": []
  }
 ],
 "metadata": {
  "kernelspec": {
   "display_name": "R",
   "language": "R",
   "name": "ir"
  },
  "language_info": {
   "codemirror_mode": "r",
   "file_extension": ".r",
   "mimetype": "text/x-r-source",
   "name": "R",
   "pygments_lexer": "r",
   "version": "4.3.2"
  }
 },
 "nbformat": 4,
 "nbformat_minor": 5
}
