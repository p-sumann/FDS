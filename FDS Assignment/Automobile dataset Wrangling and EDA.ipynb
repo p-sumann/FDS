{
 "cells": [
  {
   "cell_type": "code",
   "execution_count": 1,
   "id": "eb79f09c-bf92-4f2a-bdeb-54ee84e5e071",
   "metadata": {},
   "outputs": [
    {
     "name": "stderr",
     "output_type": "stream",
     "text": [
      "Warning message:\n",
      "\"package 'ggplot2' was built under R version 4.3.3\"\n",
      "── \u001b[1mAttaching core tidyverse packages\u001b[22m ──────────────────────────────────────────────────────────────── tidyverse 2.0.0 ──\n",
      "\u001b[32m✔\u001b[39m \u001b[34mdplyr    \u001b[39m 1.1.4     \u001b[32m✔\u001b[39m \u001b[34mreadr    \u001b[39m 2.1.5\n",
      "\u001b[32m✔\u001b[39m \u001b[34mforcats  \u001b[39m 1.0.0     \u001b[32m✔\u001b[39m \u001b[34mstringr  \u001b[39m 1.5.1\n",
      "\u001b[32m✔\u001b[39m \u001b[34mggplot2  \u001b[39m 3.5.0     \u001b[32m✔\u001b[39m \u001b[34mtibble   \u001b[39m 3.2.1\n",
      "\u001b[32m✔\u001b[39m \u001b[34mlubridate\u001b[39m 1.9.3     \u001b[32m✔\u001b[39m \u001b[34mtidyr    \u001b[39m 1.3.1\n",
      "\u001b[32m✔\u001b[39m \u001b[34mpurrr    \u001b[39m 1.0.2     \n",
      "── \u001b[1mConflicts\u001b[22m ────────────────────────────────────────────────────────────────────────────────── tidyverse_conflicts() ──\n",
      "\u001b[31m✖\u001b[39m \u001b[34mdplyr\u001b[39m::\u001b[32mfilter()\u001b[39m masks \u001b[34mstats\u001b[39m::filter()\n",
      "\u001b[31m✖\u001b[39m \u001b[34mdplyr\u001b[39m::\u001b[32mlag()\u001b[39m    masks \u001b[34mstats\u001b[39m::lag()\n",
      "\u001b[36mℹ\u001b[39m Use the conflicted package (\u001b[3m\u001b[34m<http://conflicted.r-lib.org/>\u001b[39m\u001b[23m) to force all conflicts to become errors\n"
     ]
    }
   ],
   "source": [
    "library(tidyverse,warn.conflicts = FALSE)"
   ]
  },
  {
   "cell_type": "code",
   "execution_count": 2,
   "id": "5b432d3d-238c-4d66-bf39-7d1c2b746138",
   "metadata": {},
   "outputs": [],
   "source": [
    "auto_data <- read.csv(\"automobile.data\", header = FALSE, na.strings = \"?\")"
   ]
  },
  {
   "cell_type": "markdown",
   "id": "81ed7e45-c7c4-4075-84db-de0d9a341223",
   "metadata": {},
   "source": [
    "#### Basic Data Exploration"
   ]
  },
  {
   "cell_type": "code",
   "execution_count": 3,
   "id": "f34e168f-8e66-4227-b474-0f0e4b50f395",
   "metadata": {},
   "outputs": [
    {
     "data": {
      "text/html": [
       "<table class=\"dataframe\">\n",
       "<caption>A data.frame: 6 × 26</caption>\n",
       "<thead>\n",
       "\t<tr><th></th><th scope=col>V1</th><th scope=col>V2</th><th scope=col>V3</th><th scope=col>V4</th><th scope=col>V5</th><th scope=col>V6</th><th scope=col>V7</th><th scope=col>V8</th><th scope=col>V9</th><th scope=col>V10</th><th scope=col>⋯</th><th scope=col>V17</th><th scope=col>V18</th><th scope=col>V19</th><th scope=col>V20</th><th scope=col>V21</th><th scope=col>V22</th><th scope=col>V23</th><th scope=col>V24</th><th scope=col>V25</th><th scope=col>V26</th></tr>\n",
       "\t<tr><th></th><th scope=col>&lt;int&gt;</th><th scope=col>&lt;int&gt;</th><th scope=col>&lt;chr&gt;</th><th scope=col>&lt;chr&gt;</th><th scope=col>&lt;chr&gt;</th><th scope=col>&lt;chr&gt;</th><th scope=col>&lt;chr&gt;</th><th scope=col>&lt;chr&gt;</th><th scope=col>&lt;chr&gt;</th><th scope=col>&lt;dbl&gt;</th><th scope=col>⋯</th><th scope=col>&lt;int&gt;</th><th scope=col>&lt;chr&gt;</th><th scope=col>&lt;dbl&gt;</th><th scope=col>&lt;dbl&gt;</th><th scope=col>&lt;dbl&gt;</th><th scope=col>&lt;int&gt;</th><th scope=col>&lt;int&gt;</th><th scope=col>&lt;int&gt;</th><th scope=col>&lt;int&gt;</th><th scope=col>&lt;int&gt;</th></tr>\n",
       "</thead>\n",
       "<tbody>\n",
       "\t<tr><th scope=row>1</th><td>3</td><td> NA</td><td>alfa-romero</td><td>gas</td><td>std</td><td>two </td><td>convertible</td><td>rwd</td><td>front</td><td>88.6</td><td>⋯</td><td>130</td><td>mpfi</td><td>3.47</td><td>2.68</td><td> 9.0</td><td>111</td><td>5000</td><td>21</td><td>27</td><td>13495</td></tr>\n",
       "\t<tr><th scope=row>2</th><td>3</td><td> NA</td><td>alfa-romero</td><td>gas</td><td>std</td><td>two </td><td>convertible</td><td>rwd</td><td>front</td><td>88.6</td><td>⋯</td><td>130</td><td>mpfi</td><td>3.47</td><td>2.68</td><td> 9.0</td><td>111</td><td>5000</td><td>21</td><td>27</td><td>16500</td></tr>\n",
       "\t<tr><th scope=row>3</th><td>1</td><td> NA</td><td>alfa-romero</td><td>gas</td><td>std</td><td>two </td><td>hatchback  </td><td>rwd</td><td>front</td><td>94.5</td><td>⋯</td><td>152</td><td>mpfi</td><td>2.68</td><td>3.47</td><td> 9.0</td><td>154</td><td>5000</td><td>19</td><td>26</td><td>16500</td></tr>\n",
       "\t<tr><th scope=row>4</th><td>2</td><td>164</td><td>audi       </td><td>gas</td><td>std</td><td>four</td><td>sedan      </td><td>fwd</td><td>front</td><td>99.8</td><td>⋯</td><td>109</td><td>mpfi</td><td>3.19</td><td>3.40</td><td>10.0</td><td>102</td><td>5500</td><td>24</td><td>30</td><td>13950</td></tr>\n",
       "\t<tr><th scope=row>5</th><td>2</td><td>164</td><td>audi       </td><td>gas</td><td>std</td><td>four</td><td>sedan      </td><td>4wd</td><td>front</td><td>99.4</td><td>⋯</td><td>136</td><td>mpfi</td><td>3.19</td><td>3.40</td><td> 8.0</td><td>115</td><td>5500</td><td>18</td><td>22</td><td>17450</td></tr>\n",
       "\t<tr><th scope=row>6</th><td>2</td><td> NA</td><td>audi       </td><td>gas</td><td>std</td><td>two </td><td>sedan      </td><td>fwd</td><td>front</td><td>99.8</td><td>⋯</td><td>136</td><td>mpfi</td><td>3.19</td><td>3.40</td><td> 8.5</td><td>110</td><td>5500</td><td>19</td><td>25</td><td>15250</td></tr>\n",
       "</tbody>\n",
       "</table>\n"
      ],
      "text/latex": [
       "A data.frame: 6 × 26\n",
       "\\begin{tabular}{r|lllllllllllllllllllll}\n",
       "  & V1 & V2 & V3 & V4 & V5 & V6 & V7 & V8 & V9 & V10 & ⋯ & V17 & V18 & V19 & V20 & V21 & V22 & V23 & V24 & V25 & V26\\\\\n",
       "  & <int> & <int> & <chr> & <chr> & <chr> & <chr> & <chr> & <chr> & <chr> & <dbl> & ⋯ & <int> & <chr> & <dbl> & <dbl> & <dbl> & <int> & <int> & <int> & <int> & <int>\\\\\n",
       "\\hline\n",
       "\t1 & 3 &  NA & alfa-romero & gas & std & two  & convertible & rwd & front & 88.6 & ⋯ & 130 & mpfi & 3.47 & 2.68 &  9.0 & 111 & 5000 & 21 & 27 & 13495\\\\\n",
       "\t2 & 3 &  NA & alfa-romero & gas & std & two  & convertible & rwd & front & 88.6 & ⋯ & 130 & mpfi & 3.47 & 2.68 &  9.0 & 111 & 5000 & 21 & 27 & 16500\\\\\n",
       "\t3 & 1 &  NA & alfa-romero & gas & std & two  & hatchback   & rwd & front & 94.5 & ⋯ & 152 & mpfi & 2.68 & 3.47 &  9.0 & 154 & 5000 & 19 & 26 & 16500\\\\\n",
       "\t4 & 2 & 164 & audi        & gas & std & four & sedan       & fwd & front & 99.8 & ⋯ & 109 & mpfi & 3.19 & 3.40 & 10.0 & 102 & 5500 & 24 & 30 & 13950\\\\\n",
       "\t5 & 2 & 164 & audi        & gas & std & four & sedan       & 4wd & front & 99.4 & ⋯ & 136 & mpfi & 3.19 & 3.40 &  8.0 & 115 & 5500 & 18 & 22 & 17450\\\\\n",
       "\t6 & 2 &  NA & audi        & gas & std & two  & sedan       & fwd & front & 99.8 & ⋯ & 136 & mpfi & 3.19 & 3.40 &  8.5 & 110 & 5500 & 19 & 25 & 15250\\\\\n",
       "\\end{tabular}\n"
      ],
      "text/markdown": [
       "\n",
       "A data.frame: 6 × 26\n",
       "\n",
       "| <!--/--> | V1 &lt;int&gt; | V2 &lt;int&gt; | V3 &lt;chr&gt; | V4 &lt;chr&gt; | V5 &lt;chr&gt; | V6 &lt;chr&gt; | V7 &lt;chr&gt; | V8 &lt;chr&gt; | V9 &lt;chr&gt; | V10 &lt;dbl&gt; | ⋯ ⋯ | V17 &lt;int&gt; | V18 &lt;chr&gt; | V19 &lt;dbl&gt; | V20 &lt;dbl&gt; | V21 &lt;dbl&gt; | V22 &lt;int&gt; | V23 &lt;int&gt; | V24 &lt;int&gt; | V25 &lt;int&gt; | V26 &lt;int&gt; |\n",
       "|---|---|---|---|---|---|---|---|---|---|---|---|---|---|---|---|---|---|---|---|---|---|\n",
       "| 1 | 3 |  NA | alfa-romero | gas | std | two  | convertible | rwd | front | 88.6 | ⋯ | 130 | mpfi | 3.47 | 2.68 |  9.0 | 111 | 5000 | 21 | 27 | 13495 |\n",
       "| 2 | 3 |  NA | alfa-romero | gas | std | two  | convertible | rwd | front | 88.6 | ⋯ | 130 | mpfi | 3.47 | 2.68 |  9.0 | 111 | 5000 | 21 | 27 | 16500 |\n",
       "| 3 | 1 |  NA | alfa-romero | gas | std | two  | hatchback   | rwd | front | 94.5 | ⋯ | 152 | mpfi | 2.68 | 3.47 |  9.0 | 154 | 5000 | 19 | 26 | 16500 |\n",
       "| 4 | 2 | 164 | audi        | gas | std | four | sedan       | fwd | front | 99.8 | ⋯ | 109 | mpfi | 3.19 | 3.40 | 10.0 | 102 | 5500 | 24 | 30 | 13950 |\n",
       "| 5 | 2 | 164 | audi        | gas | std | four | sedan       | 4wd | front | 99.4 | ⋯ | 136 | mpfi | 3.19 | 3.40 |  8.0 | 115 | 5500 | 18 | 22 | 17450 |\n",
       "| 6 | 2 |  NA | audi        | gas | std | two  | sedan       | fwd | front | 99.8 | ⋯ | 136 | mpfi | 3.19 | 3.40 |  8.5 | 110 | 5500 | 19 | 25 | 15250 |\n",
       "\n"
      ],
      "text/plain": [
       "  V1 V2  V3          V4  V5  V6   V7          V8  V9    V10  ⋯ V17 V18  V19 \n",
       "1 3   NA alfa-romero gas std two  convertible rwd front 88.6 ⋯ 130 mpfi 3.47\n",
       "2 3   NA alfa-romero gas std two  convertible rwd front 88.6 ⋯ 130 mpfi 3.47\n",
       "3 1   NA alfa-romero gas std two  hatchback   rwd front 94.5 ⋯ 152 mpfi 2.68\n",
       "4 2  164 audi        gas std four sedan       fwd front 99.8 ⋯ 109 mpfi 3.19\n",
       "5 2  164 audi        gas std four sedan       4wd front 99.4 ⋯ 136 mpfi 3.19\n",
       "6 2   NA audi        gas std two  sedan       fwd front 99.8 ⋯ 136 mpfi 3.19\n",
       "  V20  V21  V22 V23  V24 V25 V26  \n",
       "1 2.68  9.0 111 5000 21  27  13495\n",
       "2 2.68  9.0 111 5000 21  27  16500\n",
       "3 3.47  9.0 154 5000 19  26  16500\n",
       "4 3.40 10.0 102 5500 24  30  13950\n",
       "5 3.40  8.0 115 5500 18  22  17450\n",
       "6 3.40  8.5 110 5500 19  25  15250"
      ]
     },
     "metadata": {},
     "output_type": "display_data"
    }
   ],
   "source": [
    "head(auto_data)"
   ]
  },
  {
   "cell_type": "code",
   "execution_count": 4,
   "id": "dbe0968b-2447-43a1-9055-b269bea835a4",
   "metadata": {},
   "outputs": [
    {
     "data": {
      "text/html": [
       "<table class=\"dataframe\">\n",
       "<caption>A data.frame: 6 × 26</caption>\n",
       "<thead>\n",
       "\t<tr><th></th><th scope=col>V1</th><th scope=col>V2</th><th scope=col>V3</th><th scope=col>V4</th><th scope=col>V5</th><th scope=col>V6</th><th scope=col>V7</th><th scope=col>V8</th><th scope=col>V9</th><th scope=col>V10</th><th scope=col>⋯</th><th scope=col>V17</th><th scope=col>V18</th><th scope=col>V19</th><th scope=col>V20</th><th scope=col>V21</th><th scope=col>V22</th><th scope=col>V23</th><th scope=col>V24</th><th scope=col>V25</th><th scope=col>V26</th></tr>\n",
       "\t<tr><th></th><th scope=col>&lt;int&gt;</th><th scope=col>&lt;int&gt;</th><th scope=col>&lt;chr&gt;</th><th scope=col>&lt;chr&gt;</th><th scope=col>&lt;chr&gt;</th><th scope=col>&lt;chr&gt;</th><th scope=col>&lt;chr&gt;</th><th scope=col>&lt;chr&gt;</th><th scope=col>&lt;chr&gt;</th><th scope=col>&lt;dbl&gt;</th><th scope=col>⋯</th><th scope=col>&lt;int&gt;</th><th scope=col>&lt;chr&gt;</th><th scope=col>&lt;dbl&gt;</th><th scope=col>&lt;dbl&gt;</th><th scope=col>&lt;dbl&gt;</th><th scope=col>&lt;int&gt;</th><th scope=col>&lt;int&gt;</th><th scope=col>&lt;int&gt;</th><th scope=col>&lt;int&gt;</th><th scope=col>&lt;int&gt;</th></tr>\n",
       "</thead>\n",
       "<tbody>\n",
       "\t<tr><th scope=row>200</th><td>-1</td><td>74</td><td>volvo</td><td>gas   </td><td>turbo</td><td>four</td><td>wagon</td><td>rwd</td><td>front</td><td>104.3</td><td>⋯</td><td>130</td><td>mpfi</td><td>3.62</td><td>3.15</td><td> 7.5</td><td>162</td><td>5100</td><td>17</td><td>22</td><td>18950</td></tr>\n",
       "\t<tr><th scope=row>201</th><td>-1</td><td>95</td><td>volvo</td><td>gas   </td><td>std  </td><td>four</td><td>sedan</td><td>rwd</td><td>front</td><td>109.1</td><td>⋯</td><td>141</td><td>mpfi</td><td>3.78</td><td>3.15</td><td> 9.5</td><td>114</td><td>5400</td><td>23</td><td>28</td><td>16845</td></tr>\n",
       "\t<tr><th scope=row>202</th><td>-1</td><td>95</td><td>volvo</td><td>gas   </td><td>turbo</td><td>four</td><td>sedan</td><td>rwd</td><td>front</td><td>109.1</td><td>⋯</td><td>141</td><td>mpfi</td><td>3.78</td><td>3.15</td><td> 8.7</td><td>160</td><td>5300</td><td>19</td><td>25</td><td>19045</td></tr>\n",
       "\t<tr><th scope=row>203</th><td>-1</td><td>95</td><td>volvo</td><td>gas   </td><td>std  </td><td>four</td><td>sedan</td><td>rwd</td><td>front</td><td>109.1</td><td>⋯</td><td>173</td><td>mpfi</td><td>3.58</td><td>2.87</td><td> 8.8</td><td>134</td><td>5500</td><td>18</td><td>23</td><td>21485</td></tr>\n",
       "\t<tr><th scope=row>204</th><td>-1</td><td>95</td><td>volvo</td><td>diesel</td><td>turbo</td><td>four</td><td>sedan</td><td>rwd</td><td>front</td><td>109.1</td><td>⋯</td><td>145</td><td>idi </td><td>3.01</td><td>3.40</td><td>23.0</td><td>106</td><td>4800</td><td>26</td><td>27</td><td>22470</td></tr>\n",
       "\t<tr><th scope=row>205</th><td>-1</td><td>95</td><td>volvo</td><td>gas   </td><td>turbo</td><td>four</td><td>sedan</td><td>rwd</td><td>front</td><td>109.1</td><td>⋯</td><td>141</td><td>mpfi</td><td>3.78</td><td>3.15</td><td> 9.5</td><td>114</td><td>5400</td><td>19</td><td>25</td><td>22625</td></tr>\n",
       "</tbody>\n",
       "</table>\n"
      ],
      "text/latex": [
       "A data.frame: 6 × 26\n",
       "\\begin{tabular}{r|lllllllllllllllllllll}\n",
       "  & V1 & V2 & V3 & V4 & V5 & V6 & V7 & V8 & V9 & V10 & ⋯ & V17 & V18 & V19 & V20 & V21 & V22 & V23 & V24 & V25 & V26\\\\\n",
       "  & <int> & <int> & <chr> & <chr> & <chr> & <chr> & <chr> & <chr> & <chr> & <dbl> & ⋯ & <int> & <chr> & <dbl> & <dbl> & <dbl> & <int> & <int> & <int> & <int> & <int>\\\\\n",
       "\\hline\n",
       "\t200 & -1 & 74 & volvo & gas    & turbo & four & wagon & rwd & front & 104.3 & ⋯ & 130 & mpfi & 3.62 & 3.15 &  7.5 & 162 & 5100 & 17 & 22 & 18950\\\\\n",
       "\t201 & -1 & 95 & volvo & gas    & std   & four & sedan & rwd & front & 109.1 & ⋯ & 141 & mpfi & 3.78 & 3.15 &  9.5 & 114 & 5400 & 23 & 28 & 16845\\\\\n",
       "\t202 & -1 & 95 & volvo & gas    & turbo & four & sedan & rwd & front & 109.1 & ⋯ & 141 & mpfi & 3.78 & 3.15 &  8.7 & 160 & 5300 & 19 & 25 & 19045\\\\\n",
       "\t203 & -1 & 95 & volvo & gas    & std   & four & sedan & rwd & front & 109.1 & ⋯ & 173 & mpfi & 3.58 & 2.87 &  8.8 & 134 & 5500 & 18 & 23 & 21485\\\\\n",
       "\t204 & -1 & 95 & volvo & diesel & turbo & four & sedan & rwd & front & 109.1 & ⋯ & 145 & idi  & 3.01 & 3.40 & 23.0 & 106 & 4800 & 26 & 27 & 22470\\\\\n",
       "\t205 & -1 & 95 & volvo & gas    & turbo & four & sedan & rwd & front & 109.1 & ⋯ & 141 & mpfi & 3.78 & 3.15 &  9.5 & 114 & 5400 & 19 & 25 & 22625\\\\\n",
       "\\end{tabular}\n"
      ],
      "text/markdown": [
       "\n",
       "A data.frame: 6 × 26\n",
       "\n",
       "| <!--/--> | V1 &lt;int&gt; | V2 &lt;int&gt; | V3 &lt;chr&gt; | V4 &lt;chr&gt; | V5 &lt;chr&gt; | V6 &lt;chr&gt; | V7 &lt;chr&gt; | V8 &lt;chr&gt; | V9 &lt;chr&gt; | V10 &lt;dbl&gt; | ⋯ ⋯ | V17 &lt;int&gt; | V18 &lt;chr&gt; | V19 &lt;dbl&gt; | V20 &lt;dbl&gt; | V21 &lt;dbl&gt; | V22 &lt;int&gt; | V23 &lt;int&gt; | V24 &lt;int&gt; | V25 &lt;int&gt; | V26 &lt;int&gt; |\n",
       "|---|---|---|---|---|---|---|---|---|---|---|---|---|---|---|---|---|---|---|---|---|---|\n",
       "| 200 | -1 | 74 | volvo | gas    | turbo | four | wagon | rwd | front | 104.3 | ⋯ | 130 | mpfi | 3.62 | 3.15 |  7.5 | 162 | 5100 | 17 | 22 | 18950 |\n",
       "| 201 | -1 | 95 | volvo | gas    | std   | four | sedan | rwd | front | 109.1 | ⋯ | 141 | mpfi | 3.78 | 3.15 |  9.5 | 114 | 5400 | 23 | 28 | 16845 |\n",
       "| 202 | -1 | 95 | volvo | gas    | turbo | four | sedan | rwd | front | 109.1 | ⋯ | 141 | mpfi | 3.78 | 3.15 |  8.7 | 160 | 5300 | 19 | 25 | 19045 |\n",
       "| 203 | -1 | 95 | volvo | gas    | std   | four | sedan | rwd | front | 109.1 | ⋯ | 173 | mpfi | 3.58 | 2.87 |  8.8 | 134 | 5500 | 18 | 23 | 21485 |\n",
       "| 204 | -1 | 95 | volvo | diesel | turbo | four | sedan | rwd | front | 109.1 | ⋯ | 145 | idi  | 3.01 | 3.40 | 23.0 | 106 | 4800 | 26 | 27 | 22470 |\n",
       "| 205 | -1 | 95 | volvo | gas    | turbo | four | sedan | rwd | front | 109.1 | ⋯ | 141 | mpfi | 3.78 | 3.15 |  9.5 | 114 | 5400 | 19 | 25 | 22625 |\n",
       "\n"
      ],
      "text/plain": [
       "    V1 V2 V3    V4     V5    V6   V7    V8  V9    V10   ⋯ V17 V18  V19  V20 \n",
       "200 -1 74 volvo gas    turbo four wagon rwd front 104.3 ⋯ 130 mpfi 3.62 3.15\n",
       "201 -1 95 volvo gas    std   four sedan rwd front 109.1 ⋯ 141 mpfi 3.78 3.15\n",
       "202 -1 95 volvo gas    turbo four sedan rwd front 109.1 ⋯ 141 mpfi 3.78 3.15\n",
       "203 -1 95 volvo gas    std   four sedan rwd front 109.1 ⋯ 173 mpfi 3.58 2.87\n",
       "204 -1 95 volvo diesel turbo four sedan rwd front 109.1 ⋯ 145 idi  3.01 3.40\n",
       "205 -1 95 volvo gas    turbo four sedan rwd front 109.1 ⋯ 141 mpfi 3.78 3.15\n",
       "    V21  V22 V23  V24 V25 V26  \n",
       "200  7.5 162 5100 17  22  18950\n",
       "201  9.5 114 5400 23  28  16845\n",
       "202  8.7 160 5300 19  25  19045\n",
       "203  8.8 134 5500 18  23  21485\n",
       "204 23.0 106 4800 26  27  22470\n",
       "205  9.5 114 5400 19  25  22625"
      ]
     },
     "metadata": {},
     "output_type": "display_data"
    }
   ],
   "source": [
    "tail(auto_data)"
   ]
  },
  {
   "cell_type": "code",
   "execution_count": 5,
   "id": "de857f31-e697-4c78-9cad-c456ceed5173",
   "metadata": {},
   "outputs": [
    {
     "data": {
      "text/html": [
       "<style>\n",
       ".list-inline {list-style: none; margin:0; padding: 0}\n",
       ".list-inline>li {display: inline-block}\n",
       ".list-inline>li:not(:last-child)::after {content: \"\\00b7\"; padding: 0 .5ex}\n",
       "</style>\n",
       "<ol class=list-inline><li>205</li><li>26</li></ol>\n"
      ],
      "text/latex": [
       "\\begin{enumerate*}\n",
       "\\item 205\n",
       "\\item 26\n",
       "\\end{enumerate*}\n"
      ],
      "text/markdown": [
       "1. 205\n",
       "2. 26\n",
       "\n",
       "\n"
      ],
      "text/plain": [
       "[1] 205  26"
      ]
     },
     "metadata": {},
     "output_type": "display_data"
    }
   ],
   "source": [
    "dim(auto_data)"
   ]
  },
  {
   "cell_type": "code",
   "execution_count": 6,
   "id": "8d763090-81a8-411a-a7d5-e9816cfc6c5b",
   "metadata": {},
   "outputs": [
    {
     "name": "stdout",
     "output_type": "stream",
     "text": [
      "'data.frame':\t205 obs. of  26 variables:\n",
      " $ V1 : int  3 3 1 2 2 2 1 1 1 0 ...\n",
      " $ V2 : int  NA NA NA 164 164 NA 158 NA 158 NA ...\n",
      " $ V3 : chr  \"alfa-romero\" \"alfa-romero\" \"alfa-romero\" \"audi\" ...\n",
      " $ V4 : chr  \"gas\" \"gas\" \"gas\" \"gas\" ...\n",
      " $ V5 : chr  \"std\" \"std\" \"std\" \"std\" ...\n",
      " $ V6 : chr  \"two\" \"two\" \"two\" \"four\" ...\n",
      " $ V7 : chr  \"convertible\" \"convertible\" \"hatchback\" \"sedan\" ...\n",
      " $ V8 : chr  \"rwd\" \"rwd\" \"rwd\" \"fwd\" ...\n",
      " $ V9 : chr  \"front\" \"front\" \"front\" \"front\" ...\n",
      " $ V10: num  88.6 88.6 94.5 99.8 99.4 ...\n",
      " $ V11: num  169 169 171 177 177 ...\n",
      " $ V12: num  64.1 64.1 65.5 66.2 66.4 66.3 71.4 71.4 71.4 67.9 ...\n",
      " $ V13: num  48.8 48.8 52.4 54.3 54.3 53.1 55.7 55.7 55.9 52 ...\n",
      " $ V14: int  2548 2548 2823 2337 2824 2507 2844 2954 3086 3053 ...\n",
      " $ V15: chr  \"dohc\" \"dohc\" \"ohcv\" \"ohc\" ...\n",
      " $ V16: chr  \"four\" \"four\" \"six\" \"four\" ...\n",
      " $ V17: int  130 130 152 109 136 136 136 136 131 131 ...\n",
      " $ V18: chr  \"mpfi\" \"mpfi\" \"mpfi\" \"mpfi\" ...\n",
      " $ V19: num  3.47 3.47 2.68 3.19 3.19 3.19 3.19 3.19 3.13 3.13 ...\n",
      " $ V20: num  2.68 2.68 3.47 3.4 3.4 3.4 3.4 3.4 3.4 3.4 ...\n",
      " $ V21: num  9 9 9 10 8 8.5 8.5 8.5 8.3 7 ...\n",
      " $ V22: int  111 111 154 102 115 110 110 110 140 160 ...\n",
      " $ V23: int  5000 5000 5000 5500 5500 5500 5500 5500 5500 5500 ...\n",
      " $ V24: int  21 21 19 24 18 19 19 19 17 16 ...\n",
      " $ V25: int  27 27 26 30 22 25 25 25 20 22 ...\n",
      " $ V26: int  13495 16500 16500 13950 17450 15250 17710 18920 23875 NA ...\n"
     ]
    }
   ],
   "source": [
    "# Check data types\n",
    "str(auto_data)"
   ]
  },
  {
   "cell_type": "code",
   "execution_count": 7,
   "id": "866c4531-cdc2-4fcd-b8ce-b90d1381e778",
   "metadata": {},
   "outputs": [
    {
     "data": {
      "text/html": [
       "<style>\n",
       ".list-inline {list-style: none; margin:0; padding: 0}\n",
       ".list-inline>li {display: inline-block}\n",
       ".list-inline>li:not(:last-child)::after {content: \"\\00b7\"; padding: 0 .5ex}\n",
       "</style>\n",
       "<ol class=list-inline><li>'V1'</li><li>'V2'</li><li>'V3'</li><li>'V4'</li><li>'V5'</li><li>'V6'</li><li>'V7'</li><li>'V8'</li><li>'V9'</li><li>'V10'</li><li>'V11'</li><li>'V12'</li><li>'V13'</li><li>'V14'</li><li>'V15'</li><li>'V16'</li><li>'V17'</li><li>'V18'</li><li>'V19'</li><li>'V20'</li><li>'V21'</li><li>'V22'</li><li>'V23'</li><li>'V24'</li><li>'V25'</li><li>'V26'</li></ol>\n"
      ],
      "text/latex": [
       "\\begin{enumerate*}\n",
       "\\item 'V1'\n",
       "\\item 'V2'\n",
       "\\item 'V3'\n",
       "\\item 'V4'\n",
       "\\item 'V5'\n",
       "\\item 'V6'\n",
       "\\item 'V7'\n",
       "\\item 'V8'\n",
       "\\item 'V9'\n",
       "\\item 'V10'\n",
       "\\item 'V11'\n",
       "\\item 'V12'\n",
       "\\item 'V13'\n",
       "\\item 'V14'\n",
       "\\item 'V15'\n",
       "\\item 'V16'\n",
       "\\item 'V17'\n",
       "\\item 'V18'\n",
       "\\item 'V19'\n",
       "\\item 'V20'\n",
       "\\item 'V21'\n",
       "\\item 'V22'\n",
       "\\item 'V23'\n",
       "\\item 'V24'\n",
       "\\item 'V25'\n",
       "\\item 'V26'\n",
       "\\end{enumerate*}\n"
      ],
      "text/markdown": [
       "1. 'V1'\n",
       "2. 'V2'\n",
       "3. 'V3'\n",
       "4. 'V4'\n",
       "5. 'V5'\n",
       "6. 'V6'\n",
       "7. 'V7'\n",
       "8. 'V8'\n",
       "9. 'V9'\n",
       "10. 'V10'\n",
       "11. 'V11'\n",
       "12. 'V12'\n",
       "13. 'V13'\n",
       "14. 'V14'\n",
       "15. 'V15'\n",
       "16. 'V16'\n",
       "17. 'V17'\n",
       "18. 'V18'\n",
       "19. 'V19'\n",
       "20. 'V20'\n",
       "21. 'V21'\n",
       "22. 'V22'\n",
       "23. 'V23'\n",
       "24. 'V24'\n",
       "25. 'V25'\n",
       "26. 'V26'\n",
       "\n",
       "\n"
      ],
      "text/plain": [
       " [1] \"V1\"  \"V2\"  \"V3\"  \"V4\"  \"V5\"  \"V6\"  \"V7\"  \"V8\"  \"V9\"  \"V10\" \"V11\" \"V12\"\n",
       "[13] \"V13\" \"V14\" \"V15\" \"V16\" \"V17\" \"V18\" \"V19\" \"V20\" \"V21\" \"V22\" \"V23\" \"V24\"\n",
       "[25] \"V25\" \"V26\""
      ]
     },
     "metadata": {},
     "output_type": "display_data"
    }
   ],
   "source": [
    "names(auto_data)"
   ]
  },
  {
   "cell_type": "code",
   "execution_count": 8,
   "id": "8a6a7c79-0325-465b-914e-6165f409d3a9",
   "metadata": {},
   "outputs": [],
   "source": [
    "# change the names of columns of the auto_data dataframe\n",
    "\n",
    "colnames(auto_data) <- c(\"symboling\", \"normalized_losses\", \"make\", \"fuel_type\", \"aspiration\", \"num_doors\", \n",
    "                         \"body_style\", \"drive_wheels\", \"engine_location\", \"wheel_base\", \"length\", \"width\", \n",
    "                         \"height\", \"curb_weight\", \"engine_type\", \"num_cylinders\", \"engine_size\", \"fuel_system\", \n",
    "                         \"bore\", \"stroke\", \"compression_ratio\", \"horsepower\", \"peak_rpm\", \"city_mpg\", \n",
    "                         \"highway_mpg\", \"price\")"
   ]
  },
  {
   "cell_type": "code",
   "execution_count": 9,
   "id": "b9622252-7686-4f1e-97c4-799c1db87f40",
   "metadata": {},
   "outputs": [
    {
     "data": {
      "text/html": [
       "<style>\n",
       ".list-inline {list-style: none; margin:0; padding: 0}\n",
       ".list-inline>li {display: inline-block}\n",
       ".list-inline>li:not(:last-child)::after {content: \"\\00b7\"; padding: 0 .5ex}\n",
       "</style>\n",
       "<ol class=list-inline><li>'symboling'</li><li>'normalized_losses'</li><li>'make'</li><li>'fuel_type'</li><li>'aspiration'</li><li>'num_doors'</li><li>'body_style'</li><li>'drive_wheels'</li><li>'engine_location'</li><li>'wheel_base'</li><li>'length'</li><li>'width'</li><li>'height'</li><li>'curb_weight'</li><li>'engine_type'</li><li>'num_cylinders'</li><li>'engine_size'</li><li>'fuel_system'</li><li>'bore'</li><li>'stroke'</li><li>'compression_ratio'</li><li>'horsepower'</li><li>'peak_rpm'</li><li>'city_mpg'</li><li>'highway_mpg'</li><li>'price'</li></ol>\n"
      ],
      "text/latex": [
       "\\begin{enumerate*}\n",
       "\\item 'symboling'\n",
       "\\item 'normalized\\_losses'\n",
       "\\item 'make'\n",
       "\\item 'fuel\\_type'\n",
       "\\item 'aspiration'\n",
       "\\item 'num\\_doors'\n",
       "\\item 'body\\_style'\n",
       "\\item 'drive\\_wheels'\n",
       "\\item 'engine\\_location'\n",
       "\\item 'wheel\\_base'\n",
       "\\item 'length'\n",
       "\\item 'width'\n",
       "\\item 'height'\n",
       "\\item 'curb\\_weight'\n",
       "\\item 'engine\\_type'\n",
       "\\item 'num\\_cylinders'\n",
       "\\item 'engine\\_size'\n",
       "\\item 'fuel\\_system'\n",
       "\\item 'bore'\n",
       "\\item 'stroke'\n",
       "\\item 'compression\\_ratio'\n",
       "\\item 'horsepower'\n",
       "\\item 'peak\\_rpm'\n",
       "\\item 'city\\_mpg'\n",
       "\\item 'highway\\_mpg'\n",
       "\\item 'price'\n",
       "\\end{enumerate*}\n"
      ],
      "text/markdown": [
       "1. 'symboling'\n",
       "2. 'normalized_losses'\n",
       "3. 'make'\n",
       "4. 'fuel_type'\n",
       "5. 'aspiration'\n",
       "6. 'num_doors'\n",
       "7. 'body_style'\n",
       "8. 'drive_wheels'\n",
       "9. 'engine_location'\n",
       "10. 'wheel_base'\n",
       "11. 'length'\n",
       "12. 'width'\n",
       "13. 'height'\n",
       "14. 'curb_weight'\n",
       "15. 'engine_type'\n",
       "16. 'num_cylinders'\n",
       "17. 'engine_size'\n",
       "18. 'fuel_system'\n",
       "19. 'bore'\n",
       "20. 'stroke'\n",
       "21. 'compression_ratio'\n",
       "22. 'horsepower'\n",
       "23. 'peak_rpm'\n",
       "24. 'city_mpg'\n",
       "25. 'highway_mpg'\n",
       "26. 'price'\n",
       "\n",
       "\n"
      ],
      "text/plain": [
       " [1] \"symboling\"         \"normalized_losses\" \"make\"             \n",
       " [4] \"fuel_type\"         \"aspiration\"        \"num_doors\"        \n",
       " [7] \"body_style\"        \"drive_wheels\"      \"engine_location\"  \n",
       "[10] \"wheel_base\"        \"length\"            \"width\"            \n",
       "[13] \"height\"            \"curb_weight\"       \"engine_type\"      \n",
       "[16] \"num_cylinders\"     \"engine_size\"       \"fuel_system\"      \n",
       "[19] \"bore\"              \"stroke\"            \"compression_ratio\"\n",
       "[22] \"horsepower\"        \"peak_rpm\"          \"city_mpg\"         \n",
       "[25] \"highway_mpg\"       \"price\"            "
      ]
     },
     "metadata": {},
     "output_type": "display_data"
    }
   ],
   "source": [
    "names(auto_data)"
   ]
  },
  {
   "cell_type": "code",
   "execution_count": 10,
   "id": "6fcd29cf-4ee4-4a76-9e64-18eb3d1b1532",
   "metadata": {},
   "outputs": [
    {
     "data": {
      "text/html": [
       "<style>\n",
       ".dl-inline {width: auto; margin:0; padding: 0}\n",
       ".dl-inline>dt, .dl-inline>dd {float: none; width: auto; display: inline-block}\n",
       ".dl-inline>dt::after {content: \":\\0020\"; padding-right: .5ex}\n",
       ".dl-inline>dt:not(:first-of-type) {padding-left: .5ex}\n",
       "</style><dl class=dl-inline><dt>symboling</dt><dd>0</dd><dt>normalized_losses</dt><dd>41</dd><dt>make</dt><dd>0</dd><dt>fuel_type</dt><dd>0</dd><dt>aspiration</dt><dd>0</dd><dt>num_doors</dt><dd>2</dd><dt>body_style</dt><dd>0</dd><dt>drive_wheels</dt><dd>0</dd><dt>engine_location</dt><dd>0</dd><dt>wheel_base</dt><dd>0</dd><dt>length</dt><dd>0</dd><dt>width</dt><dd>0</dd><dt>height</dt><dd>0</dd><dt>curb_weight</dt><dd>0</dd><dt>engine_type</dt><dd>0</dd><dt>num_cylinders</dt><dd>0</dd><dt>engine_size</dt><dd>0</dd><dt>fuel_system</dt><dd>0</dd><dt>bore</dt><dd>4</dd><dt>stroke</dt><dd>4</dd><dt>compression_ratio</dt><dd>0</dd><dt>horsepower</dt><dd>2</dd><dt>peak_rpm</dt><dd>2</dd><dt>city_mpg</dt><dd>0</dd><dt>highway_mpg</dt><dd>0</dd><dt>price</dt><dd>4</dd></dl>\n"
      ],
      "text/latex": [
       "\\begin{description*}\n",
       "\\item[symboling] 0\n",
       "\\item[normalized\\textbackslash{}\\_losses] 41\n",
       "\\item[make] 0\n",
       "\\item[fuel\\textbackslash{}\\_type] 0\n",
       "\\item[aspiration] 0\n",
       "\\item[num\\textbackslash{}\\_doors] 2\n",
       "\\item[body\\textbackslash{}\\_style] 0\n",
       "\\item[drive\\textbackslash{}\\_wheels] 0\n",
       "\\item[engine\\textbackslash{}\\_location] 0\n",
       "\\item[wheel\\textbackslash{}\\_base] 0\n",
       "\\item[length] 0\n",
       "\\item[width] 0\n",
       "\\item[height] 0\n",
       "\\item[curb\\textbackslash{}\\_weight] 0\n",
       "\\item[engine\\textbackslash{}\\_type] 0\n",
       "\\item[num\\textbackslash{}\\_cylinders] 0\n",
       "\\item[engine\\textbackslash{}\\_size] 0\n",
       "\\item[fuel\\textbackslash{}\\_system] 0\n",
       "\\item[bore] 4\n",
       "\\item[stroke] 4\n",
       "\\item[compression\\textbackslash{}\\_ratio] 0\n",
       "\\item[horsepower] 2\n",
       "\\item[peak\\textbackslash{}\\_rpm] 2\n",
       "\\item[city\\textbackslash{}\\_mpg] 0\n",
       "\\item[highway\\textbackslash{}\\_mpg] 0\n",
       "\\item[price] 4\n",
       "\\end{description*}\n"
      ],
      "text/markdown": [
       "symboling\n",
       ":   0normalized_losses\n",
       ":   41make\n",
       ":   0fuel_type\n",
       ":   0aspiration\n",
       ":   0num_doors\n",
       ":   2body_style\n",
       ":   0drive_wheels\n",
       ":   0engine_location\n",
       ":   0wheel_base\n",
       ":   0length\n",
       ":   0width\n",
       ":   0height\n",
       ":   0curb_weight\n",
       ":   0engine_type\n",
       ":   0num_cylinders\n",
       ":   0engine_size\n",
       ":   0fuel_system\n",
       ":   0bore\n",
       ":   4stroke\n",
       ":   4compression_ratio\n",
       ":   0horsepower\n",
       ":   2peak_rpm\n",
       ":   2city_mpg\n",
       ":   0highway_mpg\n",
       ":   0price\n",
       ":   4\n",
       "\n"
      ],
      "text/plain": [
       "        symboling normalized_losses              make         fuel_type \n",
       "                0                41                 0                 0 \n",
       "       aspiration         num_doors        body_style      drive_wheels \n",
       "                0                 2                 0                 0 \n",
       "  engine_location        wheel_base            length             width \n",
       "                0                 0                 0                 0 \n",
       "           height       curb_weight       engine_type     num_cylinders \n",
       "                0                 0                 0                 0 \n",
       "      engine_size       fuel_system              bore            stroke \n",
       "                0                 0                 4                 4 \n",
       "compression_ratio        horsepower          peak_rpm          city_mpg \n",
       "                0                 2                 2                 0 \n",
       "      highway_mpg             price \n",
       "                0                 4 "
      ]
     },
     "metadata": {},
     "output_type": "display_data"
    }
   ],
   "source": [
    "# Check for missing values\n",
    "colSums(is.na(auto_data))"
   ]
  },
  {
   "cell_type": "markdown",
   "id": "feee082f-a84d-44fe-94b3-211810a86cfc",
   "metadata": {},
   "source": [
    "#### Impute the missing value"
   ]
  },
  {
   "cell_type": "code",
   "execution_count": 11,
   "id": "d50a03f8-f3a8-48d9-be88-6e4d3e0038fc",
   "metadata": {},
   "outputs": [],
   "source": [
    "auto_data <- auto_data %>% \n",
    "  mutate(\n",
    "    num_doors = ifelse(is.na(num_doors), names(which.max(table(auto_data$num_doors))), num_doors),\n",
    "    bore = ifelse(is.na(bore), median(bore, na.rm = TRUE), bore),\n",
    "    stroke = ifelse(is.na(stroke), median(stroke, na.rm = TRUE), stroke),\n",
    "    horsepower = ifelse(is.na(horsepower), mean(horsepower, na.rm = TRUE), horsepower),\n",
    "    peak_rpm = ifelse(is.na(peak_rpm), median(peak_rpm, na.rm = TRUE), peak_rpm),\n",
    "    price = ifelse(is.na(price), median(price, na.rm = TRUE), price)\n",
    ")"
   ]
  },
  {
   "cell_type": "code",
   "execution_count": 12,
   "id": "d2fae3b8-fad0-479e-9535-c6591b447ec9",
   "metadata": {},
   "outputs": [
    {
     "data": {
      "text/html": [
       "<table class=\"dataframe\">\n",
       "<caption>A data.frame: 6 × 26</caption>\n",
       "<thead>\n",
       "\t<tr><th></th><th scope=col>symboling</th><th scope=col>normalized_losses</th><th scope=col>make</th><th scope=col>fuel_type</th><th scope=col>aspiration</th><th scope=col>num_doors</th><th scope=col>body_style</th><th scope=col>drive_wheels</th><th scope=col>engine_location</th><th scope=col>wheel_base</th><th scope=col>⋯</th><th scope=col>engine_size</th><th scope=col>fuel_system</th><th scope=col>bore</th><th scope=col>stroke</th><th scope=col>compression_ratio</th><th scope=col>horsepower</th><th scope=col>peak_rpm</th><th scope=col>city_mpg</th><th scope=col>highway_mpg</th><th scope=col>price</th></tr>\n",
       "\t<tr><th></th><th scope=col>&lt;int&gt;</th><th scope=col>&lt;int&gt;</th><th scope=col>&lt;chr&gt;</th><th scope=col>&lt;chr&gt;</th><th scope=col>&lt;chr&gt;</th><th scope=col>&lt;chr&gt;</th><th scope=col>&lt;chr&gt;</th><th scope=col>&lt;chr&gt;</th><th scope=col>&lt;chr&gt;</th><th scope=col>&lt;dbl&gt;</th><th scope=col>⋯</th><th scope=col>&lt;int&gt;</th><th scope=col>&lt;chr&gt;</th><th scope=col>&lt;dbl&gt;</th><th scope=col>&lt;dbl&gt;</th><th scope=col>&lt;dbl&gt;</th><th scope=col>&lt;dbl&gt;</th><th scope=col>&lt;int&gt;</th><th scope=col>&lt;int&gt;</th><th scope=col>&lt;int&gt;</th><th scope=col>&lt;int&gt;</th></tr>\n",
       "</thead>\n",
       "<tbody>\n",
       "\t<tr><th scope=row>1</th><td>3</td><td> NA</td><td>alfa-romero</td><td>gas</td><td>std</td><td>two </td><td>convertible</td><td>rwd</td><td>front</td><td>88.6</td><td>⋯</td><td>130</td><td>mpfi</td><td>3.47</td><td>2.68</td><td> 9.0</td><td>111</td><td>5000</td><td>21</td><td>27</td><td>13495</td></tr>\n",
       "\t<tr><th scope=row>2</th><td>3</td><td> NA</td><td>alfa-romero</td><td>gas</td><td>std</td><td>two </td><td>convertible</td><td>rwd</td><td>front</td><td>88.6</td><td>⋯</td><td>130</td><td>mpfi</td><td>3.47</td><td>2.68</td><td> 9.0</td><td>111</td><td>5000</td><td>21</td><td>27</td><td>16500</td></tr>\n",
       "\t<tr><th scope=row>3</th><td>1</td><td> NA</td><td>alfa-romero</td><td>gas</td><td>std</td><td>two </td><td>hatchback  </td><td>rwd</td><td>front</td><td>94.5</td><td>⋯</td><td>152</td><td>mpfi</td><td>2.68</td><td>3.47</td><td> 9.0</td><td>154</td><td>5000</td><td>19</td><td>26</td><td>16500</td></tr>\n",
       "\t<tr><th scope=row>4</th><td>2</td><td>164</td><td>audi       </td><td>gas</td><td>std</td><td>four</td><td>sedan      </td><td>fwd</td><td>front</td><td>99.8</td><td>⋯</td><td>109</td><td>mpfi</td><td>3.19</td><td>3.40</td><td>10.0</td><td>102</td><td>5500</td><td>24</td><td>30</td><td>13950</td></tr>\n",
       "\t<tr><th scope=row>5</th><td>2</td><td>164</td><td>audi       </td><td>gas</td><td>std</td><td>four</td><td>sedan      </td><td>4wd</td><td>front</td><td>99.4</td><td>⋯</td><td>136</td><td>mpfi</td><td>3.19</td><td>3.40</td><td> 8.0</td><td>115</td><td>5500</td><td>18</td><td>22</td><td>17450</td></tr>\n",
       "\t<tr><th scope=row>6</th><td>2</td><td> NA</td><td>audi       </td><td>gas</td><td>std</td><td>two </td><td>sedan      </td><td>fwd</td><td>front</td><td>99.8</td><td>⋯</td><td>136</td><td>mpfi</td><td>3.19</td><td>3.40</td><td> 8.5</td><td>110</td><td>5500</td><td>19</td><td>25</td><td>15250</td></tr>\n",
       "</tbody>\n",
       "</table>\n"
      ],
      "text/latex": [
       "A data.frame: 6 × 26\n",
       "\\begin{tabular}{r|lllllllllllllllllllll}\n",
       "  & symboling & normalized\\_losses & make & fuel\\_type & aspiration & num\\_doors & body\\_style & drive\\_wheels & engine\\_location & wheel\\_base & ⋯ & engine\\_size & fuel\\_system & bore & stroke & compression\\_ratio & horsepower & peak\\_rpm & city\\_mpg & highway\\_mpg & price\\\\\n",
       "  & <int> & <int> & <chr> & <chr> & <chr> & <chr> & <chr> & <chr> & <chr> & <dbl> & ⋯ & <int> & <chr> & <dbl> & <dbl> & <dbl> & <dbl> & <int> & <int> & <int> & <int>\\\\\n",
       "\\hline\n",
       "\t1 & 3 &  NA & alfa-romero & gas & std & two  & convertible & rwd & front & 88.6 & ⋯ & 130 & mpfi & 3.47 & 2.68 &  9.0 & 111 & 5000 & 21 & 27 & 13495\\\\\n",
       "\t2 & 3 &  NA & alfa-romero & gas & std & two  & convertible & rwd & front & 88.6 & ⋯ & 130 & mpfi & 3.47 & 2.68 &  9.0 & 111 & 5000 & 21 & 27 & 16500\\\\\n",
       "\t3 & 1 &  NA & alfa-romero & gas & std & two  & hatchback   & rwd & front & 94.5 & ⋯ & 152 & mpfi & 2.68 & 3.47 &  9.0 & 154 & 5000 & 19 & 26 & 16500\\\\\n",
       "\t4 & 2 & 164 & audi        & gas & std & four & sedan       & fwd & front & 99.8 & ⋯ & 109 & mpfi & 3.19 & 3.40 & 10.0 & 102 & 5500 & 24 & 30 & 13950\\\\\n",
       "\t5 & 2 & 164 & audi        & gas & std & four & sedan       & 4wd & front & 99.4 & ⋯ & 136 & mpfi & 3.19 & 3.40 &  8.0 & 115 & 5500 & 18 & 22 & 17450\\\\\n",
       "\t6 & 2 &  NA & audi        & gas & std & two  & sedan       & fwd & front & 99.8 & ⋯ & 136 & mpfi & 3.19 & 3.40 &  8.5 & 110 & 5500 & 19 & 25 & 15250\\\\\n",
       "\\end{tabular}\n"
      ],
      "text/markdown": [
       "\n",
       "A data.frame: 6 × 26\n",
       "\n",
       "| <!--/--> | symboling &lt;int&gt; | normalized_losses &lt;int&gt; | make &lt;chr&gt; | fuel_type &lt;chr&gt; | aspiration &lt;chr&gt; | num_doors &lt;chr&gt; | body_style &lt;chr&gt; | drive_wheels &lt;chr&gt; | engine_location &lt;chr&gt; | wheel_base &lt;dbl&gt; | ⋯ ⋯ | engine_size &lt;int&gt; | fuel_system &lt;chr&gt; | bore &lt;dbl&gt; | stroke &lt;dbl&gt; | compression_ratio &lt;dbl&gt; | horsepower &lt;dbl&gt; | peak_rpm &lt;int&gt; | city_mpg &lt;int&gt; | highway_mpg &lt;int&gt; | price &lt;int&gt; |\n",
       "|---|---|---|---|---|---|---|---|---|---|---|---|---|---|---|---|---|---|---|---|---|---|\n",
       "| 1 | 3 |  NA | alfa-romero | gas | std | two  | convertible | rwd | front | 88.6 | ⋯ | 130 | mpfi | 3.47 | 2.68 |  9.0 | 111 | 5000 | 21 | 27 | 13495 |\n",
       "| 2 | 3 |  NA | alfa-romero | gas | std | two  | convertible | rwd | front | 88.6 | ⋯ | 130 | mpfi | 3.47 | 2.68 |  9.0 | 111 | 5000 | 21 | 27 | 16500 |\n",
       "| 3 | 1 |  NA | alfa-romero | gas | std | two  | hatchback   | rwd | front | 94.5 | ⋯ | 152 | mpfi | 2.68 | 3.47 |  9.0 | 154 | 5000 | 19 | 26 | 16500 |\n",
       "| 4 | 2 | 164 | audi        | gas | std | four | sedan       | fwd | front | 99.8 | ⋯ | 109 | mpfi | 3.19 | 3.40 | 10.0 | 102 | 5500 | 24 | 30 | 13950 |\n",
       "| 5 | 2 | 164 | audi        | gas | std | four | sedan       | 4wd | front | 99.4 | ⋯ | 136 | mpfi | 3.19 | 3.40 |  8.0 | 115 | 5500 | 18 | 22 | 17450 |\n",
       "| 6 | 2 |  NA | audi        | gas | std | two  | sedan       | fwd | front | 99.8 | ⋯ | 136 | mpfi | 3.19 | 3.40 |  8.5 | 110 | 5500 | 19 | 25 | 15250 |\n",
       "\n"
      ],
      "text/plain": [
       "  symboling normalized_losses make        fuel_type aspiration num_doors\n",
       "1 3          NA               alfa-romero gas       std        two      \n",
       "2 3          NA               alfa-romero gas       std        two      \n",
       "3 1          NA               alfa-romero gas       std        two      \n",
       "4 2         164               audi        gas       std        four     \n",
       "5 2         164               audi        gas       std        four     \n",
       "6 2          NA               audi        gas       std        two      \n",
       "  body_style  drive_wheels engine_location wheel_base ⋯ engine_size fuel_system\n",
       "1 convertible rwd          front           88.6       ⋯ 130         mpfi       \n",
       "2 convertible rwd          front           88.6       ⋯ 130         mpfi       \n",
       "3 hatchback   rwd          front           94.5       ⋯ 152         mpfi       \n",
       "4 sedan       fwd          front           99.8       ⋯ 109         mpfi       \n",
       "5 sedan       4wd          front           99.4       ⋯ 136         mpfi       \n",
       "6 sedan       fwd          front           99.8       ⋯ 136         mpfi       \n",
       "  bore stroke compression_ratio horsepower peak_rpm city_mpg highway_mpg price\n",
       "1 3.47 2.68    9.0              111        5000     21       27          13495\n",
       "2 3.47 2.68    9.0              111        5000     21       27          16500\n",
       "3 2.68 3.47    9.0              154        5000     19       26          16500\n",
       "4 3.19 3.40   10.0              102        5500     24       30          13950\n",
       "5 3.19 3.40    8.0              115        5500     18       22          17450\n",
       "6 3.19 3.40    8.5              110        5500     19       25          15250"
      ]
     },
     "metadata": {},
     "output_type": "display_data"
    }
   ],
   "source": [
    "head(auto_data)"
   ]
  },
  {
   "cell_type": "code",
   "execution_count": 13,
   "id": "db81457c-5b47-448d-8982-a53e3b008860",
   "metadata": {},
   "outputs": [
    {
     "data": {
      "text/html": [
       "<style>\n",
       ".dl-inline {width: auto; margin:0; padding: 0}\n",
       ".dl-inline>dt, .dl-inline>dd {float: none; width: auto; display: inline-block}\n",
       ".dl-inline>dt::after {content: \":\\0020\"; padding-right: .5ex}\n",
       ".dl-inline>dt:not(:first-of-type) {padding-left: .5ex}\n",
       "</style><dl class=dl-inline><dt>symboling</dt><dd>0</dd><dt>normalized_losses</dt><dd>41</dd><dt>make</dt><dd>0</dd><dt>fuel_type</dt><dd>0</dd><dt>aspiration</dt><dd>0</dd><dt>num_doors</dt><dd>0</dd><dt>body_style</dt><dd>0</dd><dt>drive_wheels</dt><dd>0</dd><dt>engine_location</dt><dd>0</dd><dt>wheel_base</dt><dd>0</dd><dt>length</dt><dd>0</dd><dt>width</dt><dd>0</dd><dt>height</dt><dd>0</dd><dt>curb_weight</dt><dd>0</dd><dt>engine_type</dt><dd>0</dd><dt>num_cylinders</dt><dd>0</dd><dt>engine_size</dt><dd>0</dd><dt>fuel_system</dt><dd>0</dd><dt>bore</dt><dd>0</dd><dt>stroke</dt><dd>0</dd><dt>compression_ratio</dt><dd>0</dd><dt>horsepower</dt><dd>0</dd><dt>peak_rpm</dt><dd>0</dd><dt>city_mpg</dt><dd>0</dd><dt>highway_mpg</dt><dd>0</dd><dt>price</dt><dd>0</dd></dl>\n"
      ],
      "text/latex": [
       "\\begin{description*}\n",
       "\\item[symboling] 0\n",
       "\\item[normalized\\textbackslash{}\\_losses] 41\n",
       "\\item[make] 0\n",
       "\\item[fuel\\textbackslash{}\\_type] 0\n",
       "\\item[aspiration] 0\n",
       "\\item[num\\textbackslash{}\\_doors] 0\n",
       "\\item[body\\textbackslash{}\\_style] 0\n",
       "\\item[drive\\textbackslash{}\\_wheels] 0\n",
       "\\item[engine\\textbackslash{}\\_location] 0\n",
       "\\item[wheel\\textbackslash{}\\_base] 0\n",
       "\\item[length] 0\n",
       "\\item[width] 0\n",
       "\\item[height] 0\n",
       "\\item[curb\\textbackslash{}\\_weight] 0\n",
       "\\item[engine\\textbackslash{}\\_type] 0\n",
       "\\item[num\\textbackslash{}\\_cylinders] 0\n",
       "\\item[engine\\textbackslash{}\\_size] 0\n",
       "\\item[fuel\\textbackslash{}\\_system] 0\n",
       "\\item[bore] 0\n",
       "\\item[stroke] 0\n",
       "\\item[compression\\textbackslash{}\\_ratio] 0\n",
       "\\item[horsepower] 0\n",
       "\\item[peak\\textbackslash{}\\_rpm] 0\n",
       "\\item[city\\textbackslash{}\\_mpg] 0\n",
       "\\item[highway\\textbackslash{}\\_mpg] 0\n",
       "\\item[price] 0\n",
       "\\end{description*}\n"
      ],
      "text/markdown": [
       "symboling\n",
       ":   0normalized_losses\n",
       ":   41make\n",
       ":   0fuel_type\n",
       ":   0aspiration\n",
       ":   0num_doors\n",
       ":   0body_style\n",
       ":   0drive_wheels\n",
       ":   0engine_location\n",
       ":   0wheel_base\n",
       ":   0length\n",
       ":   0width\n",
       ":   0height\n",
       ":   0curb_weight\n",
       ":   0engine_type\n",
       ":   0num_cylinders\n",
       ":   0engine_size\n",
       ":   0fuel_system\n",
       ":   0bore\n",
       ":   0stroke\n",
       ":   0compression_ratio\n",
       ":   0horsepower\n",
       ":   0peak_rpm\n",
       ":   0city_mpg\n",
       ":   0highway_mpg\n",
       ":   0price\n",
       ":   0\n",
       "\n"
      ],
      "text/plain": [
       "        symboling normalized_losses              make         fuel_type \n",
       "                0                41                 0                 0 \n",
       "       aspiration         num_doors        body_style      drive_wheels \n",
       "                0                 0                 0                 0 \n",
       "  engine_location        wheel_base            length             width \n",
       "                0                 0                 0                 0 \n",
       "           height       curb_weight       engine_type     num_cylinders \n",
       "                0                 0                 0                 0 \n",
       "      engine_size       fuel_system              bore            stroke \n",
       "                0                 0                 0                 0 \n",
       "compression_ratio        horsepower          peak_rpm          city_mpg \n",
       "                0                 0                 0                 0 \n",
       "      highway_mpg             price \n",
       "                0                 0 "
      ]
     },
     "metadata": {},
     "output_type": "display_data"
    }
   ],
   "source": [
    "# Check for missing values\n",
    "colSums(is.na(auto_data))"
   ]
  },
  {
   "cell_type": "code",
   "execution_count": 14,
   "id": "f695f3d8-4090-4cee-9938-a458aec3a381",
   "metadata": {},
   "outputs": [],
   "source": [
    "# impute the missing vaue normalized_losses\n",
    "auto_data <- auto_data %>% \n",
    "  mutate(normalized_losses = replace_na(normalized_losses, mean(normalized_losses, na.rm = TRUE)))\n",
    "\n",
    "auto_data$num_doors[is.na(auto_data$num_doors)] <- names(which.max(table(auto_data$num_doors)))\n"
   ]
  },
  {
   "cell_type": "code",
   "execution_count": 15,
   "id": "2a9612f2-02a1-435f-8619-a8482820d667",
   "metadata": {},
   "outputs": [
    {
     "data": {
      "text/html": [
       "<style>\n",
       ".dl-inline {width: auto; margin:0; padding: 0}\n",
       ".dl-inline>dt, .dl-inline>dd {float: none; width: auto; display: inline-block}\n",
       ".dl-inline>dt::after {content: \":\\0020\"; padding-right: .5ex}\n",
       ".dl-inline>dt:not(:first-of-type) {padding-left: .5ex}\n",
       "</style><dl class=dl-inline><dt>symboling</dt><dd>0</dd><dt>normalized_losses</dt><dd>0</dd><dt>make</dt><dd>0</dd><dt>fuel_type</dt><dd>0</dd><dt>aspiration</dt><dd>0</dd><dt>num_doors</dt><dd>0</dd><dt>body_style</dt><dd>0</dd><dt>drive_wheels</dt><dd>0</dd><dt>engine_location</dt><dd>0</dd><dt>wheel_base</dt><dd>0</dd><dt>length</dt><dd>0</dd><dt>width</dt><dd>0</dd><dt>height</dt><dd>0</dd><dt>curb_weight</dt><dd>0</dd><dt>engine_type</dt><dd>0</dd><dt>num_cylinders</dt><dd>0</dd><dt>engine_size</dt><dd>0</dd><dt>fuel_system</dt><dd>0</dd><dt>bore</dt><dd>0</dd><dt>stroke</dt><dd>0</dd><dt>compression_ratio</dt><dd>0</dd><dt>horsepower</dt><dd>0</dd><dt>peak_rpm</dt><dd>0</dd><dt>city_mpg</dt><dd>0</dd><dt>highway_mpg</dt><dd>0</dd><dt>price</dt><dd>0</dd></dl>\n"
      ],
      "text/latex": [
       "\\begin{description*}\n",
       "\\item[symboling] 0\n",
       "\\item[normalized\\textbackslash{}\\_losses] 0\n",
       "\\item[make] 0\n",
       "\\item[fuel\\textbackslash{}\\_type] 0\n",
       "\\item[aspiration] 0\n",
       "\\item[num\\textbackslash{}\\_doors] 0\n",
       "\\item[body\\textbackslash{}\\_style] 0\n",
       "\\item[drive\\textbackslash{}\\_wheels] 0\n",
       "\\item[engine\\textbackslash{}\\_location] 0\n",
       "\\item[wheel\\textbackslash{}\\_base] 0\n",
       "\\item[length] 0\n",
       "\\item[width] 0\n",
       "\\item[height] 0\n",
       "\\item[curb\\textbackslash{}\\_weight] 0\n",
       "\\item[engine\\textbackslash{}\\_type] 0\n",
       "\\item[num\\textbackslash{}\\_cylinders] 0\n",
       "\\item[engine\\textbackslash{}\\_size] 0\n",
       "\\item[fuel\\textbackslash{}\\_system] 0\n",
       "\\item[bore] 0\n",
       "\\item[stroke] 0\n",
       "\\item[compression\\textbackslash{}\\_ratio] 0\n",
       "\\item[horsepower] 0\n",
       "\\item[peak\\textbackslash{}\\_rpm] 0\n",
       "\\item[city\\textbackslash{}\\_mpg] 0\n",
       "\\item[highway\\textbackslash{}\\_mpg] 0\n",
       "\\item[price] 0\n",
       "\\end{description*}\n"
      ],
      "text/markdown": [
       "symboling\n",
       ":   0normalized_losses\n",
       ":   0make\n",
       ":   0fuel_type\n",
       ":   0aspiration\n",
       ":   0num_doors\n",
       ":   0body_style\n",
       ":   0drive_wheels\n",
       ":   0engine_location\n",
       ":   0wheel_base\n",
       ":   0length\n",
       ":   0width\n",
       ":   0height\n",
       ":   0curb_weight\n",
       ":   0engine_type\n",
       ":   0num_cylinders\n",
       ":   0engine_size\n",
       ":   0fuel_system\n",
       ":   0bore\n",
       ":   0stroke\n",
       ":   0compression_ratio\n",
       ":   0horsepower\n",
       ":   0peak_rpm\n",
       ":   0city_mpg\n",
       ":   0highway_mpg\n",
       ":   0price\n",
       ":   0\n",
       "\n"
      ],
      "text/plain": [
       "        symboling normalized_losses              make         fuel_type \n",
       "                0                 0                 0                 0 \n",
       "       aspiration         num_doors        body_style      drive_wheels \n",
       "                0                 0                 0                 0 \n",
       "  engine_location        wheel_base            length             width \n",
       "                0                 0                 0                 0 \n",
       "           height       curb_weight       engine_type     num_cylinders \n",
       "                0                 0                 0                 0 \n",
       "      engine_size       fuel_system              bore            stroke \n",
       "                0                 0                 0                 0 \n",
       "compression_ratio        horsepower          peak_rpm          city_mpg \n",
       "                0                 0                 0                 0 \n",
       "      highway_mpg             price \n",
       "                0                 0 "
      ]
     },
     "metadata": {},
     "output_type": "display_data"
    }
   ],
   "source": [
    "# Check for missing values\n",
    "colSums(is.na(auto_data))"
   ]
  },
  {
   "cell_type": "markdown",
   "id": "bc281563-e6a4-4b2b-b72f-eae8184c0831",
   "metadata": {},
   "source": [
    "#### Basic EDA"
   ]
  },
  {
   "cell_type": "code",
   "execution_count": 16,
   "id": "b6d1cb78-3a9e-4d6c-bccc-6f7c1e9b63b8",
   "metadata": {},
   "outputs": [
    {
     "data": {
      "image/png": "[encoded data removed]",
      "text/plain": [
       "Plot with title \"Lenght vs Width\""
      ]
     },
     "metadata": {
      "image/png": {
       "height": 420,
       "width": 420
      }
     },
     "output_type": "display_data"
    }
   ],
   "source": [
    "# relationship between leghth and width of automobile\n",
    "plot(auto_data$length, auto_data$width, main='Lenght vs Width', xlab = 'Length', ylab = 'Width')\n"
   ]
  },
  {
   "cell_type": "code",
   "execution_count": 17,
   "id": "91da74a2-a3b8-4876-8aaa-34091c0cbd28",
   "metadata": {},
   "outputs": [
    {
     "data": {
      "image/png": "[encoded data removed]",
      "text/plain": [
       "plot without title"
      ]
     },
     "metadata": {
      "image/png": {
       "height": 420,
       "width": 420
      }
     },
     "output_type": "display_data"
    }
   ],
   "source": [
    "# Relationship between price and make\n",
    "# # Mean price by make\n",
    "make_price <- as_tibble(aggregate(price ~ make, auto_data, mean))\n",
    "make_price$price <- as.integer(make_price$price)\n",
    "\n",
    "ggplot(make_price, aes(x = make, y = price)) +\n",
    "  geom_bar(stat = \"identity\", fill = \"#133444\") +\n",
    "  geom_text(aes(label = price), vjust = -0.5) + \n",
    "  theme_minimal() +\n",
    "  theme(\n",
    "    axis.text.x = element_text(angle = 40, vjust = 0.5, hjust = 1),\n",
    "    plot.title = element_text(hjust = 0.5))+\n",
    "  ylim(0,40000)+\n",
    "  labs(x = \"Make\", y = \"Mean Price\", title = \"Make by Price\")\n",
    "\n",
    "  "
   ]
  },
  {
   "cell_type": "code",
   "execution_count": 18,
   "id": "fd29a129-88b0-401e-8d94-0dc3dac018f1",
   "metadata": {},
   "outputs": [
    {
     "data": {
      "image/png": "[encoded data removed]",
      "text/plain": [
       "plot without title"
      ]
     },
     "metadata": {
      "image/png": {
       "height": 420,
       "width": 420
      }
     },
     "output_type": "display_data"
    }
   ],
   "source": [
    "# Relationship Between Horsepower and Cylinders\n",
    "# Median horsepower by number of cylinders\n",
    "hp_cyl<- as_tibble(aggregate(horsepower ~ num_cylinders, auto_data, median))\n",
    "ggplot(hp_cyl, aes(x = horsepower, y = num_cylinders)) +\n",
    "  geom_bar(stat = \"identity\", fill = \"#996498\") +\n",
    "  geom_text(aes(label = horsepower), vjust = 0.5, hjust = -0.2) + \n",
    "  theme_minimal() +\n",
    "  theme(\n",
    "    axis.text.x = element_text(angle = 90, vjust = 0.5, hjust = 1),\n",
    "    plot.title = element_text(hjust = 0.5))+\n",
    "  labs(x = \"Horse Power\", y = \"Number of Cylinders\", title = \"Horsepower by Number of Cylinders\")"
   ]
  },
  {
   "cell_type": "code",
   "execution_count": 19,
   "id": "3a38c32b-63c7-4ae3-a5f7-07293c21dc0b",
   "metadata": {},
   "outputs": [
    {
     "data": {
      "text/html": [
       "<table class=\"dataframe\">\n",
       "<caption>A data.frame: 2 × 3</caption>\n",
       "<thead>\n",
       "\t<tr><th scope=col>fuel_type</th><th scope=col>city_mpg</th><th scope=col>highway_mpg</th></tr>\n",
       "\t<tr><th scope=col>&lt;chr&gt;</th><th scope=col>&lt;dbl&gt;</th><th scope=col>&lt;dbl&gt;</th></tr>\n",
       "</thead>\n",
       "<tbody>\n",
       "\t<tr><td>diesel</td><td>6.610199</td><td>8.626001</td></tr>\n",
       "\t<tr><td>gas   </td><td>6.311173</td><td>6.555028</td></tr>\n",
       "</tbody>\n",
       "</table>\n"
      ],
      "text/latex": [
       "A data.frame: 2 × 3\n",
       "\\begin{tabular}{lll}\n",
       " fuel\\_type & city\\_mpg & highway\\_mpg\\\\\n",
       " <chr> & <dbl> & <dbl>\\\\\n",
       "\\hline\n",
       "\t diesel & 6.610199 & 8.626001\\\\\n",
       "\t gas    & 6.311173 & 6.555028\\\\\n",
       "\\end{tabular}\n"
      ],
      "text/markdown": [
       "\n",
       "A data.frame: 2 × 3\n",
       "\n",
       "| fuel_type &lt;chr&gt; | city_mpg &lt;dbl&gt; | highway_mpg &lt;dbl&gt; |\n",
       "|---|---|---|\n",
       "| diesel | 6.610199 | 8.626001 |\n",
       "| gas    | 6.311173 | 6.555028 |\n",
       "\n"
      ],
      "text/plain": [
       "  fuel_type city_mpg highway_mpg\n",
       "1 diesel    6.610199 8.626001   \n",
       "2 gas       6.311173 6.555028   "
      ]
     },
     "metadata": {},
     "output_type": "display_data"
    }
   ],
   "source": [
    "# Does fuel type impacts mileage between road types\n",
    "aggregate(cbind(city_mpg, highway_mpg) ~ fuel_type, auto_data, sd)\n"
   ]
  },
  {
   "cell_type": "code",
   "execution_count": 20,
   "id": "15a6b3f7-66c6-44e2-8912-562caa8621d7",
   "metadata": {},
   "outputs": [
    {
     "data": {
      "image/png": "[encoded data removed]",
      "text/plain": [
       "plot without title"
      ]
     },
     "metadata": {
      "image/png": {
       "height": 420,
       "width": 420
      }
     },
     "output_type": "display_data"
    }
   ],
   "source": [
    "aggregated_data <- as.data.frame(aggregate(horsepower ~ num_cylinders, data = auto_data, FUN = mean))\n",
    "aggregated_data$horsepower <- as.integer(aggregated_data$horsepower)\n",
    "ggplot(data = aggregated_data, aes(x = horsepower, y = num_cylinders)) + \n",
    "  geom_bar(stat ='identity',fill = \"orange\") + \n",
    "  theme(axis.text.x = element_text(angle = 40,vjust = 0.5,hjust = 1)) + \n",
    "  geom_text(aes(label = horsepower, vjust = 1.5))+ ggtitle(\"Horsepower by Number of Cylinders\") \n"
   ]
  },
  {
   "cell_type": "code",
   "execution_count": 21,
   "id": "05578a65-b975-44cb-829b-460b7570f743",
   "metadata": {},
   "outputs": [
    {
     "data": {
      "text/html": [
       "<table class=\"dataframe\">\n",
       "<caption>A tibble: 7 × 3</caption>\n",
       "<thead>\n",
       "\t<tr><th scope=col>num_cylinders</th><th scope=col>mean_city_mpg</th><th scope=col>mean_highway_mpg</th></tr>\n",
       "\t<tr><th scope=col>&lt;chr&gt;</th><th scope=col>&lt;dbl&gt;</th><th scope=col>&lt;dbl&gt;</th></tr>\n",
       "</thead>\n",
       "<tbody>\n",
       "\t<tr><td>eight </td><td>15</td><td>19</td></tr>\n",
       "\t<tr><td>five  </td><td>20</td><td>24</td></tr>\n",
       "\t<tr><td>four  </td><td>27</td><td>33</td></tr>\n",
       "\t<tr><td>six   </td><td>18</td><td>24</td></tr>\n",
       "\t<tr><td>three </td><td>47</td><td>53</td></tr>\n",
       "\t<tr><td>twelve</td><td>13</td><td>17</td></tr>\n",
       "\t<tr><td>two   </td><td>17</td><td>23</td></tr>\n",
       "</tbody>\n",
       "</table>\n"
      ],
      "text/latex": [
       "A tibble: 7 × 3\n",
       "\\begin{tabular}{lll}\n",
       " num\\_cylinders & mean\\_city\\_mpg & mean\\_highway\\_mpg\\\\\n",
       " <chr> & <dbl> & <dbl>\\\\\n",
       "\\hline\n",
       "\t eight  & 15 & 19\\\\\n",
       "\t five   & 20 & 24\\\\\n",
       "\t four   & 27 & 33\\\\\n",
       "\t six    & 18 & 24\\\\\n",
       "\t three  & 47 & 53\\\\\n",
       "\t twelve & 13 & 17\\\\\n",
       "\t two    & 17 & 23\\\\\n",
       "\\end{tabular}\n"
      ],
      "text/markdown": [
       "\n",
       "A tibble: 7 × 3\n",
       "\n",
       "| num_cylinders &lt;chr&gt; | mean_city_mpg &lt;dbl&gt; | mean_highway_mpg &lt;dbl&gt; |\n",
       "|---|---|---|\n",
       "| eight  | 15 | 19 |\n",
       "| five   | 20 | 24 |\n",
       "| four   | 27 | 33 |\n",
       "| six    | 18 | 24 |\n",
       "| three  | 47 | 53 |\n",
       "| twelve | 13 | 17 |\n",
       "| two    | 17 | 23 |\n",
       "\n"
      ],
      "text/plain": [
       "  num_cylinders mean_city_mpg mean_highway_mpg\n",
       "1 eight         15            19              \n",
       "2 five          20            24              \n",
       "3 four          27            33              \n",
       "4 six           18            24              \n",
       "5 three         47            53              \n",
       "6 twelve        13            17              \n",
       "7 two           17            23              "
      ]
     },
     "metadata": {},
     "output_type": "display_data"
    }
   ],
   "source": [
    "# cylinder vs mpg (city, highway)\n",
    "mpg_summary <- auto_data %>%\n",
    "  group_by(num_cylinders) %>%\n",
    "  summarize(mean_city_mpg = round(mean(city_mpg)), mean_highway_mpg = round(mean(highway_mpg)))\n",
    "mpg_summary"
   ]
  },
  {
   "cell_type": "code",
   "execution_count": 22,
   "id": "598e247a-d2b3-407f-8d8d-fa75a4649058",
   "metadata": {},
   "outputs": [
    {
     "data": {
      "image/png": "[encoded data removed]",
      "text/plain": [
       "plot without title"
      ]
     },
     "metadata": {
      "image/png": {
       "height": 420,
       "width": 420
      }
     },
     "output_type": "display_data"
    }
   ],
   "source": [
    "mpg_summary %>%\n",
    "  pivot_longer(c(mean_city_mpg, mean_highway_mpg), \n",
    "               names_to = \"mpg_type\", \n",
    "               values_to = \"mean_mpg\") %>%\n",
    "  ggplot(aes(x = num_cylinders, y = mean_mpg, fill = mpg_type)) + \n",
    "  geom_col(position = \"dodge\") + \n",
    "  geom_text(aes(label = round(mean_mpg, 1)), position = position_dodge(width = 1), vjust = -0.5) + \n",
    "  labs(x = \"Number of Cylinders\", y = \"Mean MPG\", fill = \"MPG Type\") + \n",
    "  theme_classic()"
   ]
  },
  {
   "cell_type": "code",
   "execution_count": 25,
   "id": "24d67be2-0e3d-4fc4-8cb8-7e22a989fe51",
   "metadata": {},
   "outputs": [
    {
     "data": {
      "image/png": "[encoded data removed]",
      "text/plain": [
       "plot without title"
      ]
     },
     "metadata": {
      "image/png": {
       "height": 420,
       "width": 420
      }
     },
     "output_type": "display_data"
    }
   ],
   "source": [
    "ggplot(auto_data, aes(x = horsepower, y = price, color = fuel_type)) + \n",
    "  geom_point(alpha = 0.5) + \n",
    "  labs(x = \"Horsepower\", y = \"Price\", color = \"Fuel Type\") + \n",
    "  theme_classic() + \n",
    "  theme(panel.grid.major = element_line(size = 0.5, linetype = \"dashed\", color = \"gray\"),\n",
    "        panel.grid.minor = element_line(size = 0.5, linetype = \"dashed\", color = \"gray\"),\n",
    "        axis.text = element_text(size = 12),\n",
    "        axis.title = element_text(size = 14, face = \"bold\"),\n",
    "        plot.title = element_text(size = 16, face = \"bold\", hjust = 0.5),\n",
    "        legend.text = element_text(size = 12),\n",
    "        legend.title = element_text(size = 14, face = \"bold\")) + \n",
    "  ggtitle(\"Relationship between Horsepower and Price\")"
   ]
  }
 ],
 "metadata": {
  "kernelspec": {
   "display_name": "R",
   "language": "R",
   "name": "ir"
  },
  "language_info": {
   "codemirror_mode": "r",
   "file_extension": ".r",
   "mimetype": "text/x-r-source",
   "name": "R",
   "pygments_lexer": "r",
   "version": "4.3.2"
  }
 },
 "nbformat": 4,
 "nbformat_minor": 5
}
